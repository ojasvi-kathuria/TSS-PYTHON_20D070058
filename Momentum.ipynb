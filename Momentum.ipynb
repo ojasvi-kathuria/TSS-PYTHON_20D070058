{
  "nbformat": 4,
  "nbformat_minor": 0,
  "metadata": {
    "colab": {
      "name": "Momentum.ipynb",
      "provenance": [],
      "collapsed_sections": []
    },
    "kernelspec": {
      "name": "python3",
      "display_name": "Python 3"
    },
    "language_info": {
      "name": "python"
    }
  },
  "cells": [
    {
      "cell_type": "markdown",
      "metadata": {
        "id": "U1k32GLIm1o5"
      },
      "source": [
        "## Momentum \n",
        "\n",
        "Momentum-based Trading is based on the assumption that Stocks which have performed will in the past, will perform better in the coming future.\n",
        " \n",
        "To define 'past', we take a variable **N**, and say that : \n",
        "\n",
        "<centre> Momentum(For A particular stock) = Close Price(Today) - Close Price(N-day ago) </centre>\n",
        "\n",
        "This gives us our first hyper-parameter (parameters of the model which could be changed in order to improve the model) : **N**\n",
        "\n",
        "We would also be reshuffling our [Portfolio](https://www.investopedia.com/terms/p/portfolio.asp) at certain intervals of time, which gives us our second hyper-parameter: **T** (The time after which we'll be reshuffling our Portfolio)\n",
        "\n",
        "Its never suggested to keep all your money invested, you must have some risk-free assets as well, so that even if you lose some of your cash in trading, you could still place better bets and regain that lost cash, Thus, We get our third Hyper-parameter: **R**, The Ratio of Total Balance, which we will using for investing.\n",
        "\n",
        "You will not be investing in all the 30 Tickers now, Will you? You will choose the top few stocks, which show the highest promise in terms of Momentum, which brings us to another hyper-parameter: **M**, The Number of Top few stocks (based on Momentum), which you'll keep in your Portfolio.\n",
        "\n",
        "Finally, There's some brokerage fee which you need to pay in order to place orders on the stock market, typically its less than 0.05% of the total amount : **F**\n"
      ]
    },
    {
      "cell_type": "code",
      "metadata": {
        "id": "GpkE6S0ZjSlB"
      },
      "source": [
        "#Importing Required Libraries\n",
        "import pandas as pd\n",
        "import numpy as np\n",
        "import datetime\n",
        "import matplotlib.pyplot as plt\n",
        "import seaborn as sns\n",
        "\n",
        "#Declaring the Hyperparameters\n",
        "\n",
        "N = 50\n",
        "T = 7\n",
        "R = 0.8\n",
        "M = 5\n",
        "F = 0.0005   # 0.5% Brokerage fee"
      ],
      "execution_count": 16,
      "outputs": []
    },
    {
      "cell_type": "markdown",
      "metadata": {
        "id": "DwPazs3-q618"
      },
      "source": [
        "The Second step would be to define a function which reads the Prices of various Stocks into memory.\n",
        "\n",
        "In the file DATA.csv , which we had uploaded in our repository, we have prices of 30 firms enlisted in S & P 500 Index (Apple, IBM, Cisco, Walmart and the like!) from 2nd January 2009 to 17th August 2020.\n",
        "\n",
        "For our purposes, We'll only be requiring certain columns. On an honest note, Just getting the Columns on Ticker, Date and Adjusted Closing Price would do the job, but if you want, you may take Opening Price as well.\n",
        "\n",
        "Read up about the [pandas.read_csv](https://pandas.pydata.org/docs/reference/api/pandas.read_csv.html) function from here, and figure out how you'll use it to do the job (You don't need all the columns!) "
      ]
    },
    {
      "cell_type": "code",
      "metadata": {
        "id": "9rsbAPafuUk1"
      },
      "source": [
        "def GetData(NameOfFile):\n",
        "  #START CODE HERE\n",
        "  data= pd.read_csv(\"DATA.csv\",usecols = [1,2,3,4])\n",
        "  \n",
        "\n",
        "\n",
        "\n",
        "\n",
        "  return pd.DataFrame(data)  # pd.DataFrame Object"
      ],
      "execution_count": 18,
      "outputs": []
    },
    {
      "cell_type": "markdown",
      "metadata": {
        "id": "qkWJ29Kquf2B"
      },
      "source": [
        "To aid Data-Manipulation, it would be beneficial, if we split the DataFrame into many small parts each corresponding to the data corresponding to the 30 Tickers on a particular date. These small parts could then be stored in a list.\n",
        "\n",
        "We would also be needing to remember which date is at what index, so that we can use that later. "
      ]
    },
    {
      "cell_type": "code",
      "metadata": {
        "id": "d4HLxmu9HTl8"
      },
      "source": [
        "def PartitionData(Data):\n",
        "  \n",
        "  DateToIndex = {}\n",
        "  dataByDate =[]\n",
        "  grouped = Data.groupby('datadate')\n",
        "  print (grouped)\n",
        "  i = 0\n",
        "  for date,group in grouped:\n",
        "    DateToIndex[date] = i\n",
        "    dataByDate.append(group[['tic','adjcp']])\n",
        "    i = i+1\n",
        "   \n",
        "\n",
        "\n",
        "\n",
        "  return dataByDate, DateToIndex    # List containing of the Data Partitioned according to Date, and the Dictionary mapping Dates to their index in the list "
      ],
      "execution_count": 19,
      "outputs": []
    },
    {
      "cell_type": "markdown",
      "metadata": {
        "id": "peRRNuUQOnVM"
      },
      "source": [
        "Now, We need a function to calculate the Momentum value for all of our 30 Tickers.\n",
        "To do this, We need to have a few things in mind:\n",
        "\n",
        "\n",
        "1.   We need to start at Nth day in our list, as only then we'll be able to calculate the Momentum (This will be taken care of by later parts of the Program, when we actually run the Model)\n",
        "\n",
        "2.   The Stock Market isn't open on all days, so we often won't be able to go N days behind, and will have to take the closest value instead(We can't just go N entries behind in the List we created and expect that to work, Why?) In order to work with dates, you should get to know more about the datetime library of Python from [here](https://thispointer.com/python-how-to-convert-datetime-object-to-string-using-datetime-strftime/) (Especially the datetime.strftime() function) and about the [datetime.timedelta()](https://www.studytonight.com/python-howtos/how-to-add-days-to-date-in-python) function.\n",
        "\n",
        "Also, as you may have figured it out yourself, while DataFrames are great for Data Handling and small statistical calculations, They aren't so for big calculations as the Numpy Library has both a richer variety of functions for such manipulations and is also more efficient!\n",
        "\n",
        "After we calculate the Momentum for all our Tickers, it would be a great thing to do, if we could divide their prices by their mean(in the N day interval, as we need to see which stock outperforms others and in order to do this, it won't be fair if we take the absolute growth in numbers!(Why?)\n",
        "\n"
      ]
    },
    {
      "cell_type": "code",
      "metadata": {
        "id": "tMKHAcBnSG5n"
      },
      "source": [
        "def date_to_string(date):\n",
        "  date.strftime('%m/%d/%Y')\n",
        "  return date \n",
        "\n",
        "def GetMomentumBasedPriority(PartitionedDataFrameList, DateToIndex ,today):\n",
        "  # PartitionedDataFrameList : Pandas DataFrame, The Output of your last function\n",
        "  # DateToIndex : Dictionary mapping dates to their index in the PartitionedDataFrameList\n",
        "  # today :  Today's date (string) In Format: YYYYMMDD\n",
        "\n",
        "\n",
        "  #NdaysAgo is a datatime.date() object contining the required data, you need to convert it to a string and then check if its\n",
        "  #actually there in the Data you have or will you have to get going using some other nearest date\n",
        "  Today =  datetime.date(int(today[0:4]),int(today[4:6]),int(today[6:]))\n",
        "  NdaysAgo = datetime.date(int(today[0:4]),int(today[4:6]),int(today[6:])) + datetime.timedelta(days = -N)\n",
        "  #Today =  datetime.date(int(today[0:4]),int(today[4:6]),int(today[6:]))\n",
        "  \n",
        "  l = date_to_string(NdaysAgo)\n",
        "  today_index = DateToIndex[date_to_string(today)]\n",
        "\n",
        "  if l in DateToIndex.keys():\n",
        "    ndaysago_index = DateToIndex[l]\n",
        "  else:\n",
        "    n1=NdaysAgo.deepcopy()\n",
        "    n2=NdaysAgo.deepcopy()\n",
        "    i1=n1.deepcopy()\n",
        "    i2=n2.deepcopy()\n",
        "\n",
        "    while True:\n",
        "      n1-=datetime.timedelta(days=-1)\n",
        "      if date_to_str(n1) in DateToIndex.keys():\n",
        "        i1=n1\n",
        "        break\n",
        "\n",
        "    while True:\n",
        "      n2+=datetime.timedelta(days=-1)\n",
        "      if date_to_str(n2) in DateToIndex.keys():\n",
        "        i2=n2\n",
        "        break\n",
        "\n",
        "    if int(str(n2-NdaysAgo)[0]) > int(str(NdaysAgo-n1)[0]):\n",
        "      ndaysago_index=date_to_str(i1)\n",
        "    else:\n",
        "      ndaysago_index= date_to_str(i2)\n",
        "  \n",
        "  #START CODE HERE!\n",
        "  \n",
        "\n",
        "  \n",
        "  momentum = PartitionedDataFrameList[today_index].adjcp - PartitionedDataFrameList[ndaysago_index].adjcp\n",
        "\n",
        "  sum = np.zeros(30)\n",
        "  for i in range(ndaysago_index,today_index+1):\n",
        "    sum = sum+PartitionedDataFrameList[i].adjcp\n",
        "\n",
        "  mean= sum/N\n",
        "  weights = momentum/mean \n",
        "\n",
        "  return weights \n",
        "  #Numpy Array containing the Momentum divided by mean(in the N-day period considered) of all the 30 tickers, in the required order.\n",
        "\n"
      ],
      "execution_count": 56,
      "outputs": []
    },
    {
      "cell_type": "markdown",
      "metadata": {
        "id": "s5QOHJ9Ra00l"
      },
      "source": [
        "Even after you have got your Momentum-based priorities, and have decided which stocks to buy and what will be the weight of each, you still need to figure out how much of each will you buy. To do this, first you'll sell all your pre-owned stocks which will increase your cash in hand, then you'll know the stocks to buy and their relative weights (given by their Momentum/mean) and you need a function which tells you how many stocks to buy for each ticker!"
      ]
    },
    {
      "cell_type": "code",
      "metadata": {
        "id": "cQg8OWVg_qo5"
      },
      "source": [
        "def GetBalanced(prices, weights,balance):\n",
        "  # prices : Numpy array containing Prices of all the 30 Stocks\n",
        "  # weights : Multi-hot Numpy Array : The Elements corresponding to stocks which are to be bought(Top M Stocks with positive Momentum Indicator) are set to their priority, All other elements are set to zero.\n",
        "  # Returns Numpy array containing the number of shares to buy for each stock!\n",
        "  \n",
        "  \n",
        "  available_balance = R*balance\n",
        "  one_unit = np.multiply (prices,weights)\n",
        "\n",
        "  cost= one_unit.sum()\n",
        "  \n",
        "  unit = available_balance//(cost*1.0005)\n",
        "  current_stock = np.multiply (weights,unit)\n",
        "   \n",
        "  return current_stock"
      ],
      "execution_count": 23,
      "outputs": []
    },
    {
      "cell_type": "markdown",
      "metadata": {
        "id": "WWN9ri-rIb3e"
      },
      "source": [
        "Now, We need something to simulate our [Portfolio](https://www.investopedia.com/terms/p/portfolio.asp). In order to do that we need a class, which has certain  basic features and functionalities.\n",
        "\n",
        "Features : \n",
        "\n",
        "\n",
        "1.   Your Initial Balance\n",
        "2.   Your Current Balance\n",
        "3.   A list(/any other container) storing the number of stocks of each ticker currently in possession. (Numpy Array prefered)\n",
        "4.   Most recent prices of all the stocks (As a Numpy array)\n",
        "\n",
        "Functionalities: \n",
        "\n",
        "\n",
        "\n",
        "1.   Calculating current Net Worth (Balance+Total Evaluation of all Stocks owned!) \n",
        "2.   Buying a Particular Stock (Keep the Transaction fee in mind!)\n",
        "3.   Selling a particular Stock whole (Keep the Transaction Fee in mind!)\n",
        "4.   Rebalance Portfolio  (Takes Numpy array as input)\n",
        "5.   Function to change the value of most recent prices stored (Takes Numpy array as input)\n",
        "\n",
        "\n",
        "\n"
      ]
    },
    {
      "cell_type": "code",
      "metadata": {
        "id": "gi60d9qUNO0_"
      },
      "source": [
        "class PortFolio:\n",
        "  def __init__(self,B):\n",
        "    self.price = []\n",
        "    self.current_stock= {}\n",
        "    self.initial_balance = B\n",
        "    self.current_balance = (1-R)*B\n",
        "    self.riskFree_balance = R * B\n",
        "\n",
        "  \n",
        "  def SellStock(self,index):\n",
        "    #index : The index of the Stock to sell (0-29)\n",
        "    self.current_balance= self.current_balance+(self.price[index]*self.current_stock[index]*(1-F))\n",
        "    self.current_stock[index]=0\n",
        "\n",
        "  \n",
        "  def BuyStock(self,index, number):\n",
        "    #index : The index of the Stock to buy (0-29) \n",
        "    #number : Number of shares to buy (float)\n",
        "    self.current_balance = self.current_balance - (self.price[index]*number*(1+F))\n",
        "    self.current_stock[index]= self.current_stock[index]+number\n",
        "\n",
        "  def CalculateNetWorth(self):\n",
        "    #Return Net Worth (All Shares' costs+ Balance)\n",
        "    share_cost = 0\n",
        "    for i in range(0,min(len(self.price),len(self.current_stock))):\n",
        "      share_cost = share_cost + (self.price[i]*self.current_stock[i])\n",
        "    return  self.current_balance + share_cost + self.riskFree_balance\n",
        "\n",
        "  def ChangePricesTo(self,newPriceVector):\n",
        "  # newPriceVector : Numpy array containing the prices of all the stocks for the current day\n",
        "    self.price = newPriceVector\n",
        "\n",
        "\n",
        "  def RebalancePortFolio(self,newWeights):  \n",
        "    # newWeights : Numpy array containing Momentum/Mean for all stocks in the N-day period\n",
        "    # First sell all your pre-owned Stock (make sure to take transaction fee into account!)\n",
        "    # This would change your total balance\n",
        "    # Then take the top M(/might be less than M, if >(30-M) had negative Momentum) and send them to the GetBalanced() Function\n",
        "    # Then take that output and pass them to the BuyStocks function!\n",
        "\n",
        "    for i in range(0,30):\n",
        "      self.SellStock(i)\n",
        "\n",
        "    weight_dic={}\n",
        "    for i in range (len(newWeights)):\n",
        "      weight_dic[i]=newWeights[i]\n",
        "\n",
        "    sorted_weights=np.sort(newWeights)\n",
        "\n",
        "    weights= np.zeros(30)\n",
        "    for i in range(M):\n",
        "      if sorted_weights[i]>0:\n",
        "        for j in weight_dic_keys():\n",
        "          if newWeights[j]==sorted_weights[i]:\n",
        "            weights[j]=newWeights[j]\n",
        "\n",
        "      GetBalanced(self.prices,weights,self.current_balance)\n",
        "\n",
        "      for i in range(0,30):\n",
        "        self.BuyStock(current_stock[0], current_stock[1])\n",
        "\n"
      ],
      "execution_count": 54,
      "outputs": []
    },
    {
      "cell_type": "markdown",
      "metadata": {
        "id": "PKiLs-6TB6mU"
      },
      "source": [
        "With that the difficult part is over!\n",
        "\n",
        "Now, all you need to work on is a main loop, which calls all these functions"
      ]
    },
    {
      "cell_type": "code",
      "metadata": {
        "id": "zjo2KrcaCmqf",
        "colab": {
          "base_uri": "https://localhost:8080/",
          "height": 387
        },
        "outputId": "3a49e620-9449-4e88-a17f-38f410ac3ea7"
      },
      "source": [
        "myPortfolio = PortFolio(1000)\n",
        "NetWorthAfterEachTrade = [ ]\n",
        " \n",
        "\n",
        "#First Get the Data\n",
        "Data = GetData(\"DATA.csv\")\n",
        "PartitionedData, DateToIndex= PartitionData(Data)\n",
        "#m= date_to_string(Today)\n",
        "keys_list = list(DateToIndex)\n",
        "dailyNetWorth = []\n",
        "#Start processing from the (N+1)th Day(among the ones recorded in the Data)\n",
        "for i in range(N,len(DateToIndex)):\n",
        "  # Change the Prices to the ith Term\n",
        "  # Get NetWorth and store in list\n",
        "  # Check if you need to rebalance Portfolio's Today\n",
        "  # If so, do it by Calling first the GetMomentumBasedPriority function and then passing it to the rebalance function\n",
        "  today = str(keys_list[i])\n",
        "  myPortfolio.ChangePricesTo(PartitionedData[i].adjcp)\n",
        "  dailyNetWorth.append(myPortfolio.CalculateNetWorth())\n",
        "  if(True):\n",
        "      # check if  we need to rebalance\n",
        "      momentum = GetMomentumBasedPriority(PartitionedData, DateToIndex ,today)\n",
        "      myPortfolio.rebalance(momentum)\n",
        "  \n",
        "\n",
        "\n",
        "\n",
        "  "
      ],
      "execution_count": 57,
      "outputs": [
        {
          "output_type": "stream",
          "text": [
            "<pandas.core.groupby.generic.DataFrameGroupBy object at 0x7f03f4c92c10>\n"
          ],
          "name": "stdout"
        },
        {
          "output_type": "error",
          "ename": "AttributeError",
          "evalue": "ignored",
          "traceback": [
            "\u001b[0;31m---------------------------------------------------------------------------\u001b[0m",
            "\u001b[0;31mAttributeError\u001b[0m                            Traceback (most recent call last)",
            "\u001b[0;32m<ipython-input-57-36e55015ab02>\u001b[0m in \u001b[0;36m<module>\u001b[0;34m()\u001b[0m\n\u001b[1;32m     20\u001b[0m   \u001b[0;32mif\u001b[0m\u001b[0;34m(\u001b[0m\u001b[0;32mTrue\u001b[0m\u001b[0;34m)\u001b[0m\u001b[0;34m:\u001b[0m\u001b[0;34m\u001b[0m\u001b[0;34m\u001b[0m\u001b[0m\n\u001b[1;32m     21\u001b[0m       \u001b[0;31m# check if  we need to rebalance\u001b[0m\u001b[0;34m\u001b[0m\u001b[0;34m\u001b[0m\u001b[0;34m\u001b[0m\u001b[0m\n\u001b[0;32m---> 22\u001b[0;31m       \u001b[0mmomentum\u001b[0m \u001b[0;34m=\u001b[0m \u001b[0mGetMomentumBasedPriority\u001b[0m\u001b[0;34m(\u001b[0m\u001b[0mPartitionedData\u001b[0m\u001b[0;34m,\u001b[0m \u001b[0mDateToIndex\u001b[0m \u001b[0;34m,\u001b[0m\u001b[0mtoday\u001b[0m\u001b[0;34m)\u001b[0m\u001b[0;34m\u001b[0m\u001b[0;34m\u001b[0m\u001b[0m\n\u001b[0m\u001b[1;32m     23\u001b[0m       \u001b[0mmyPortfolio\u001b[0m\u001b[0;34m.\u001b[0m\u001b[0mrebalance\u001b[0m\u001b[0;34m(\u001b[0m\u001b[0mmomentum\u001b[0m\u001b[0;34m)\u001b[0m\u001b[0;34m\u001b[0m\u001b[0;34m\u001b[0m\u001b[0m\n\u001b[1;32m     24\u001b[0m \u001b[0;34m\u001b[0m\u001b[0m\n",
            "\u001b[0;32m<ipython-input-56-67cf634e1a30>\u001b[0m in \u001b[0;36mGetMomentumBasedPriority\u001b[0;34m(PartitionedDataFrameList, DateToIndex, today)\u001b[0m\n\u001b[1;32m     16\u001b[0m \u001b[0;34m\u001b[0m\u001b[0m\n\u001b[1;32m     17\u001b[0m   \u001b[0ml\u001b[0m \u001b[0;34m=\u001b[0m \u001b[0mdate_to_string\u001b[0m\u001b[0;34m(\u001b[0m\u001b[0mNdaysAgo\u001b[0m\u001b[0;34m)\u001b[0m\u001b[0;34m\u001b[0m\u001b[0;34m\u001b[0m\u001b[0m\n\u001b[0;32m---> 18\u001b[0;31m   \u001b[0mtoday_index\u001b[0m \u001b[0;34m=\u001b[0m \u001b[0mDateToIndex\u001b[0m\u001b[0;34m[\u001b[0m\u001b[0mdate_to_string\u001b[0m\u001b[0;34m(\u001b[0m\u001b[0mtoday\u001b[0m\u001b[0;34m)\u001b[0m\u001b[0;34m]\u001b[0m\u001b[0;34m\u001b[0m\u001b[0;34m\u001b[0m\u001b[0m\n\u001b[0m\u001b[1;32m     19\u001b[0m \u001b[0;34m\u001b[0m\u001b[0m\n\u001b[1;32m     20\u001b[0m   \u001b[0;32mif\u001b[0m \u001b[0ml\u001b[0m \u001b[0;32min\u001b[0m \u001b[0mDateToIndex\u001b[0m\u001b[0;34m.\u001b[0m\u001b[0mkeys\u001b[0m\u001b[0;34m(\u001b[0m\u001b[0;34m)\u001b[0m\u001b[0;34m:\u001b[0m\u001b[0;34m\u001b[0m\u001b[0;34m\u001b[0m\u001b[0m\n",
            "\u001b[0;32m<ipython-input-56-67cf634e1a30>\u001b[0m in \u001b[0;36mdate_to_string\u001b[0;34m(date)\u001b[0m\n\u001b[1;32m      1\u001b[0m \u001b[0;32mdef\u001b[0m \u001b[0mdate_to_string\u001b[0m\u001b[0;34m(\u001b[0m\u001b[0mdate\u001b[0m\u001b[0;34m)\u001b[0m\u001b[0;34m:\u001b[0m\u001b[0;34m\u001b[0m\u001b[0;34m\u001b[0m\u001b[0m\n\u001b[0;32m----> 2\u001b[0;31m   \u001b[0mdate\u001b[0m\u001b[0;34m.\u001b[0m\u001b[0mstrftime\u001b[0m\u001b[0;34m(\u001b[0m\u001b[0;34m'%m/%d/%Y'\u001b[0m\u001b[0;34m)\u001b[0m\u001b[0;34m\u001b[0m\u001b[0;34m\u001b[0m\u001b[0m\n\u001b[0m\u001b[1;32m      3\u001b[0m   \u001b[0;32mreturn\u001b[0m \u001b[0mdate\u001b[0m\u001b[0;34m\u001b[0m\u001b[0;34m\u001b[0m\u001b[0m\n\u001b[1;32m      4\u001b[0m \u001b[0;34m\u001b[0m\u001b[0m\n\u001b[1;32m      5\u001b[0m \u001b[0;32mdef\u001b[0m \u001b[0mGetMomentumBasedPriority\u001b[0m\u001b[0;34m(\u001b[0m\u001b[0mPartitionedDataFrameList\u001b[0m\u001b[0;34m,\u001b[0m \u001b[0mDateToIndex\u001b[0m \u001b[0;34m,\u001b[0m\u001b[0mtoday\u001b[0m\u001b[0;34m)\u001b[0m\u001b[0;34m:\u001b[0m\u001b[0;34m\u001b[0m\u001b[0;34m\u001b[0m\u001b[0m\n",
            "\u001b[0;31mAttributeError\u001b[0m: 'str' object has no attribute 'strftime'"
          ]
        }
      ]
    },
    {
      "cell_type": "markdown",
      "metadata": {
        "id": "rHB126bDE2Kn"
      },
      "source": [
        "##Moment of Truth\n",
        "\n",
        "Time to check, if your Program actually works!\n",
        "\n",
        "Plot the data you collected in various ways and see if what you did worked!\n",
        "\n",
        "Feel free to use whichever one of Matplotlib or Seaborn you want to.\n",
        "\n",
        "You should try changing the hyper-parameters to increase(/decrease) your performance!\n"
      ]
    },
    {
      "cell_type": "code",
      "metadata": {
        "id": "Z3AVQq09FxYm"
      },
      "source": [
        "def VizualizeData():\n",
        "\n",
        "\n",
        "\n",
        "\n",
        "\n",
        "\n",
        "\n",
        "\n",
        "\n",
        "  "
      ],
      "execution_count": null,
      "outputs": []
    },
    {
      "cell_type": "markdown",
      "metadata": {
        "id": "cZoWhY8X9BSR"
      },
      "source": [
        "You may use this cell to write about what results you got!"
      ]
    }
  ]
}