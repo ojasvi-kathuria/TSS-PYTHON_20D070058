{
  "nbformat": 4,
  "nbformat_minor": 0,
  "metadata": {
    "colab": {
      "name": "Pairs.ipynb",
      "provenance": [],
      "collapsed_sections": []
    },
    "kernelspec": {
      "name": "python3",
      "display_name": "Python 3"
    },
    "language_info": {
      "name": "python"
    }
  },
  "cells": [
    {
      "cell_type": "markdown",
      "metadata": {
        "id": "dBmd8kyLfMIg"
      },
      "source": [
        "## Paired Switching\n",
        "\n",
        "The idea behind this strategy is that if the assets are negatively correlated, then a traditional mixed portfolio might lead to a lower return than the return for the individual assets.\n",
        "\n",
        "We periodically compute the Co-relation Coefficients' Matrix and choose pair of stocks which have the most negative co-relations and trade in them. The basic idea being that if one of them would fall, then the other would rise and hence, we must switch between them!\n",
        "\n",
        "We need a re-balancing period ,i.e. The time after which we would be again calculating the co-relations and taking a different pair of stocks : **T**\n",
        "\n",
        "We would also need to keep switching between these selected stocks in a pair at a certain interval of time : **P**\n",
        "\n",
        "Next, We need to specify how many such pairs would we be trading in : **M**\n",
        "\n",
        "The Fraction of the total balance we would be investing on every turn : **R**\n",
        "\n",
        "The Brokerage Fee as a fraction of the total transaction amount : **F**\n",
        "\n"
      ]
    },
    {
      "cell_type": "code",
      "metadata": {
        "id": "KhmpNcaUextd"
      },
      "source": [
        "import numpy as np\n",
        "import pandas as pd\n",
        "import datetime\n",
        "import matplotlib.pyplot as plt\n",
        "import seaborn as sns\n",
        "\n",
        "T = 60\n",
        "P = 7\n",
        "M = 4\n",
        "R = 0.8\n",
        "F = 0.0005"
      ],
      "execution_count": null,
      "outputs": []
    },
    {
      "cell_type": "markdown",
      "metadata": {
        "id": "6zepnFA0xjvI"
      },
      "source": [
        "### Few Upcoming Functions(GetData and PartitionData) would be similar to the ones you encountered in the Momentum Assignment (Feel free to Copy-Paste your code from there!)"
      ]
    },
    {
      "cell_type": "markdown",
      "metadata": {
        "id": "YZQH1NuRyGLy"
      },
      "source": [
        "In the file DATA.csv , which we had uploaded in our repository, we have prices of 30 firms enlisted in S & P 500 Index (Apple, IBM, Cisco, Walmart and the like!) from 2nd January 2009 to 17th August 2020.\n",
        "\n",
        "For our purposes, We'll only be requiring certain columns. On an honest note, Just getting the Columns on Ticker, Date and Adjusted Closing Price would do the job, but if you want, you may take Opening Price as well.\n",
        "\n",
        "Read up about the [pandas.read_csv](https://pandas.pydata.org/docs/reference/api/pandas.read_csv.html) function from here, and figure out how you'll use it to do the job (You don't need all the columns!) "
      ]
    },
    {
      "cell_type": "code",
      "metadata": {
        "id": "Ka_L9Ne6yOGY"
      },
      "source": [
        "def GetData(NameOfFile):\n",
        "  #START CODE HERE\n",
        "\n",
        "  data= pd.read_csv(\"DATA.csv\",usecols = [1,2,3,4])\n",
        "  \n",
        "  \n",
        "  return pd.DataFrame(data)   # pd.DataFrame Object"
      ],
      "execution_count": null,
      "outputs": []
    },
    {
      "cell_type": "markdown",
      "metadata": {
        "id": "xJILaZUYySQW"
      },
      "source": [
        "To aid Data-Manipulation, it would be beneficial, if we split the DataFrame into many small parts each corresponding to the data corresponding to the 30 Tickers on a particular date. These small parts could then be stored in a list.\n",
        "\n",
        "We would also be needing to remember which date is at what index, so that we can use that later. "
      ]
    },
    {
      "cell_type": "code",
      "metadata": {
        "id": "I0jUbPe_yiGU"
      },
      "source": [
        "def PartitionData(Data):\n",
        "  \n",
        "  \n",
        "  DateToIndex = {}\n",
        "  dataByDate =[]\n",
        "  grouped = Data.groupby('datadate')\n",
        "  print (grouped)\n",
        "  i = 0\n",
        "  for date,group in grouped:\n",
        "    DateToIndex[date] = i\n",
        "    dataByDate.append(group[['tic','adjcp']])\n",
        "    i = i+1\n",
        "  \n",
        "  return dataByDate, DateToIndex   # List containing of the Data Partitioned according to Date, and the Dictionary mapping Dates to their index in the list "
      ],
      "execution_count": null,
      "outputs": []
    },
    {
      "cell_type": "markdown",
      "metadata": {
        "id": "abBu6bdrqpcD"
      },
      "source": [
        "Now, We need a function which takes as input a pair of stocks (as indices in range 0-29), Today's date,  alongwith the Partitioned DataFrames which will tell us which of the two stocks has a better outlook for the future, and we'll simply move all our Money from one of them to the other. \n",
        "\n",
        "This will be done once in every **P** trading sessions.\n",
        "\n",
        "You could choose between the two stocks in a number of ways, the simplest of which can be what you did in the last assignment, the Momentum Indicator (i.e. Take the difference between the prices of the stocks in a certain number of days and do your deed! Remember this number of days **N** must be <= **T**)\n",
        "\n",
        "You may also use other indicators like [RSI](https://www.investopedia.com/terms/r/rsi.asp), [Stochs](https://www.investopedia.com/terms/s/stochasticoscillator.asp), [MACD](https://www.investopedia.com/terms/m/macd.asp) or anything else! (If you decide to use MACD or RSI, you could either implement other functions to calculate them or simply change your ParitionData() function to get the MACD and RSI values as they are already stored there for you!)\n",
        "\n",
        "You need not worry about getting the nearest dates (or dates at all) in this case, because all you care about is co-relations in long term and growth in short-term so it doesn't matter if you're ahead or behind a few days!\n",
        "\n",
        "'today' would be an index(integer), i.e. an index on the PartitionedDataFrames list denoting where we are at currently!\n",
        "\n",
        "Also, as you may have figured it out yourself, while DataFrames are great for Data Handling and small statistical calculations, They aren't so for big calculations as the Numpy Library has both a richer variety of functions for such manipulations and is also more efficient!\n"
      ]
    },
    {
      "cell_type": "code",
      "metadata": {
        "id": "hUViRxVXwrB5"
      },
      "source": [
        "def Switch(firstStock, SecondStock, today ,PartitionedDataFrames):\n",
        "\n",
        "  def date_to_string(date):\n",
        "  date=str(date).split('-')\n",
        "  date= date[0]+date[1]+date[2]\n",
        "  return date\n",
        "  \n",
        "  NdaysAgo = datetime.date(int(today[0:4]),int(today[4:6]),int(today[6:])) + datetime.timedelta(days = -N)\n",
        "  Today =  datetime.date(int(today[0:4]),int(today[4:6]),int(today[6:]))\n",
        "  \n",
        "  l = date_to_str(NdaysAgo)\n",
        "  today_index = DatetoIndex[date_to_str(today)]\n",
        "\n",
        "  if l in DateToIndex.keys():\n",
        "    ndaysago_index = DateToIndex[l]\n",
        "  else:\n",
        "    n1=NdaysAgo.deepcopy()\n",
        "    n2=NdaysAgo.deepcopy()\n",
        "    i1=n1.deepcopy()\n",
        "    i2=n2.deepcopy()\n",
        "\n",
        "    while True:\n",
        "      n1-=datetime.timedelta(days=-1)\n",
        "      if date_to_str(n1) in DateToIndex.keys():\n",
        "        i1=n1\n",
        "        break\n",
        "\n",
        "    while True:\n",
        "      n2+=datetime.timedelta(days=-1)\n",
        "      if date_to_str(n2) in DateToIndex.keys():\n",
        "        i2=n2\n",
        "        break\n",
        "\n",
        "    if int(str(n2-NdaysAgo)[0]>int(str(NdaysAgo-n1)[0]):\n",
        "      ndaysago_index=date_to_str(i1)\n",
        "    else;\n",
        "      ndaysago_index= date_to_str(i2)\n",
        "  \n",
        "  #START CODE HERE!\n",
        "  \n",
        "\n",
        "  \n",
        "  momentum = PartitionedDataFrameList[today_index].adjcp - PartitionedDataFrameList[ndaysago_index].adjcp\n",
        "\n",
        "    better_stock = firststock\n",
        "  else:\n",
        "    better_stock = SecondStock\n",
        "\n",
        "\n",
        "  return better_stock     #One of two(firstStock/SecondStock) depending on which should grow more in the future."
      ],
      "execution_count": null,
      "outputs": []
    },
    {
      "cell_type": "markdown",
      "metadata": {
        "id": "CBZqJ_CszZbL"
      },
      "source": [
        "Now, We need something to simulate our [Portfolio](https://www.investopedia.com/terms/p/portfolio.asp). In order to do that we need a class, which has certain  basic features and functionalities.\n",
        "\n",
        "(Again some of the functions here, would be same as the previous assignment, so feel free to Copy-Paste)\n",
        "\n",
        "Features : \n",
        "\n",
        "\n",
        "1.   Your Initial Balance\n",
        "2.   Your Current Balance (Money which isn't invested!)\n",
        "3.   A list(/any other container) storing the number of stocks of each ticker currently in possession. (Numpy Array prefered)\n",
        "4.   Most recent prices of all the stocks (As a Numpy array)\n",
        "5.   A list of **M** or less(as it might be that less than **M** stocks are negatively co-related) Tuples of indices (i,j) where i and j are the indices (from 0-29) of stocks which are negatively co-related.\n",
        "\n",
        "Functionalities: \n",
        "\n",
        "\n",
        "\n",
        "1.   Calculating current Net Worth (Balance+Total Evaluation of all Stocks owned!) \n",
        "2.   Buying a Particular Stock (Keep the Transaction fee in mind!)\n",
        "3.   Selling a particular Stock whole (Keep the Transaction Fee in mind!)\n",
        "4.   Change Pairs (**T** period intervals) (Takes PartitionedDataFrame, DateT and today's date as input)\n",
        "5.   Rebalance Portfolio (**P** period intervals) (Takes O)\n",
        "6.   Function to change the value of most recent prices stored (Takes Numpy array as input)\n",
        "\n",
        "\n",
        "You may want to know about Numpy's Corrcoef ([np.corrcoef](https://numpy.org/doc/stable/reference/generated/numpy.corrcoef.html)) function!\n"
      ]
    },
    {
      "cell_type": "code",
      "metadata": {
        "id": "SFJOHvgS1aq0"
      },
      "source": [
        "class PortFolio:\n",
        "  def __init__(self, price, current_stock,initial_balance, current_balance)): \n",
        "    #Initialize all variables\n",
        "    self.price = price\n",
        "    self.current_stock= {}\n",
        "    self.initial_balance = B\n",
        "    self.current_balance = (1-R)*B\n",
        "\n",
        "  def SellStock(self, index)\n",
        "    #index : The index of the Stock to sell (0-29)\n",
        "    balance= balance+(price[index]*current_stock[index]*(1-F))\n",
        "    current_stock[index]=0\n",
        "\n",
        "  def BuyStock(self,index, number):\n",
        "    #index : The index of the Stock to buy (0-29) \n",
        "    #number : Number of shares to buy (float)\n",
        "    current_balance = current_balance - (price[index]*number*(1+F))\n",
        "    current_stock[index]= current_stock[index]+number\n",
        "\n",
        "  def CalculateNetWorth(self):\n",
        "    #Return Net Worth (All Shares' costs+ Balance)\n",
        "    share_cost = 0\n",
        "\n",
        "    for i in index:\n",
        "      share_cost = share_cost + (price[i]*current_stock[i])\n",
        "\n",
        "     return  current_balance + share_cost\n",
        "\n",
        "\n",
        "  def ChangePricesTo(self,newPriceVector):\n",
        "    # newPriceVector : Numpy array containing the prices of all the stocks for the current day\n",
        "    price = newPriceVector\n",
        "\n",
        "  def ChangePairs(self):  \n",
        "    # Calls the Switch function for all the pairs of stocks owned\n",
        "\n",
        "   for i in current_stock:\n",
        "     for j in current_stock:\n",
        "       Switch(i,j,today,PartitionedDataFrames)\n",
        "\n",
        "  \n",
        "  def RebalancePortfolio(self):\n",
        "    # Calculates the Co-relation Matrix and changes the list of pairs, which you'll be using to trade\n",
        "    # You'll have to take care of cases, where a single stock would be involved in two or more of the most negatively co-related Stocks\n",
        "    # It would be a good idea, to call BuyStock and SellStock from here itself, instead of calling ChangePairs later as it will cause havoc that way\n",
        "    \n",
        "\n",
        "\n",
        "\n"
      ],
      "execution_count": null,
      "outputs": []
    },
    {
      "cell_type": "markdown",
      "metadata": {
        "id": "S2Sv0OPB6QiL"
      },
      "source": [
        "With that the difficult part is over!\n",
        "\n",
        "Now, all you need to work on is a main loop, which calls all these functions"
      ]
    },
    {
      "cell_type": "code",
      "metadata": {
        "id": "8qTWYyDn6mjt"
      },
      "source": [
        "myPortfolio = PortFolio(________)\n",
        "NetWorthAfterEachTrade = [___]\n",
        "\n",
        "\n",
        "#First Get the Data\n",
        "Data = ______________\n",
        "PartitionedData, DateToIndex= _______________\n",
        "\n",
        "#\n",
        "\n",
        "\n",
        "#Start processing from the (T+1)th Day(among the ones recorded in the Data)\n",
        "for i in range(__________,_________):\n",
        "  # Change the Prices to the ith Term\n",
        "  # Get NetWorth and store in list\n",
        "  # Check if you need to rebalance Portfolio's Today\n",
        "  # Check if you need to switch stocks today\n",
        "\n"
      ],
      "execution_count": null,
      "outputs": []
    },
    {
      "cell_type": "markdown",
      "metadata": {
        "id": "kwewPN3O6yIF"
      },
      "source": [
        "You may need to declare the PartitionedData list global, depending on your implementation of the Above snippet as well as the various functions in the Portfolio class."
      ]
    },
    {
      "cell_type": "markdown",
      "metadata": {
        "id": "7JBJY3YU7M2C"
      },
      "source": [
        "##Moment of Truth\n",
        "\n",
        "Time to check, if your Program actually works!\n",
        "\n",
        "Plot the data you collected in various ways (Profits, PercentageProfits etc.) and see if what you did worked!\n",
        "\n",
        "Feel free to use whichever one of Matplotlib or Seaborn you want to.\n",
        "\n",
        "Feel free to copy-paste your code from the previous assignment!"
      ]
    },
    {
      "cell_type": "code",
      "metadata": {
        "id": "lPQny8RK7tmN"
      },
      "source": [
        "def VizualizeData(________________):\n",
        "\n",
        "\n",
        "\n",
        "\n",
        "\n",
        "\n",
        "\n",
        "\n",
        "  "
      ],
      "execution_count": null,
      "outputs": []
    },
    {
      "cell_type": "markdown",
      "metadata": {
        "id": "lsAUyiuk9r6v"
      },
      "source": [
        "You may use this cell to write about your results/performance of the model!"
      ]
    }
  ]
}